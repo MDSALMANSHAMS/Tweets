{
 "cells": [
  {
   "cell_type": "code",
   "execution_count": 26,
   "id": "eebdd0a7",
   "metadata": {},
   "outputs": [
    {
     "data": {
      "text/html": [
       "<div>\n",
       "<style scoped>\n",
       "    .dataframe tbody tr th:only-of-type {\n",
       "        vertical-align: middle;\n",
       "    }\n",
       "\n",
       "    .dataframe tbody tr th {\n",
       "        vertical-align: top;\n",
       "    }\n",
       "\n",
       "    .dataframe thead th {\n",
       "        text-align: right;\n",
       "    }\n",
       "</style>\n",
       "<table border=\"1\" class=\"dataframe\">\n",
       "  <thead>\n",
       "    <tr style=\"text-align: right;\">\n",
       "      <th></th>\n",
       "      <th>textID</th>\n",
       "      <th>text</th>\n",
       "      <th>selected_text</th>\n",
       "      <th>sentiment</th>\n",
       "    </tr>\n",
       "  </thead>\n",
       "  <tbody>\n",
       "    <tr>\n",
       "      <th>0</th>\n",
       "      <td>cb774db0d1</td>\n",
       "      <td>I`d have responded, if I were going</td>\n",
       "      <td>I`d have responded, if I were going</td>\n",
       "      <td>neutral</td>\n",
       "    </tr>\n",
       "    <tr>\n",
       "      <th>1</th>\n",
       "      <td>549e992a42</td>\n",
       "      <td>Sooo SAD I will miss you here in San Diego!!!</td>\n",
       "      <td>Sooo SAD</td>\n",
       "      <td>negative</td>\n",
       "    </tr>\n",
       "    <tr>\n",
       "      <th>2</th>\n",
       "      <td>088c60f138</td>\n",
       "      <td>my boss is bullying me...</td>\n",
       "      <td>bullying me</td>\n",
       "      <td>negative</td>\n",
       "    </tr>\n",
       "    <tr>\n",
       "      <th>3</th>\n",
       "      <td>9642c003ef</td>\n",
       "      <td>what interview! leave me alone</td>\n",
       "      <td>leave me alone</td>\n",
       "      <td>negative</td>\n",
       "    </tr>\n",
       "    <tr>\n",
       "      <th>4</th>\n",
       "      <td>358bd9e861</td>\n",
       "      <td>Sons of ****, why couldn`t they put them on t...</td>\n",
       "      <td>Sons of ****,</td>\n",
       "      <td>negative</td>\n",
       "    </tr>\n",
       "  </tbody>\n",
       "</table>\n",
       "</div>"
      ],
      "text/plain": [
       "       textID                                               text  \\\n",
       "0  cb774db0d1                I`d have responded, if I were going   \n",
       "1  549e992a42      Sooo SAD I will miss you here in San Diego!!!   \n",
       "2  088c60f138                          my boss is bullying me...   \n",
       "3  9642c003ef                     what interview! leave me alone   \n",
       "4  358bd9e861   Sons of ****, why couldn`t they put them on t...   \n",
       "\n",
       "                         selected_text sentiment  \n",
       "0  I`d have responded, if I were going   neutral  \n",
       "1                             Sooo SAD  negative  \n",
       "2                          bullying me  negative  \n",
       "3                       leave me alone  negative  \n",
       "4                        Sons of ****,  negative  "
      ]
     },
     "execution_count": 26,
     "metadata": {},
     "output_type": "execute_result"
    }
   ],
   "source": [
    "import pandas as pd\n",
    "\n",
    "df = pd.read_csv('Tweets.csv')\n",
    "df.head()"
   ]
  },
  {
   "cell_type": "code",
   "execution_count": 3,
   "id": "1a6a5cdb",
   "metadata": {},
   "outputs": [
    {
     "name": "stdout",
     "output_type": "stream",
     "text": [
      "<class 'pandas.core.frame.DataFrame'>\n",
      "RangeIndex: 27481 entries, 0 to 27480\n",
      "Data columns (total 4 columns):\n",
      " #   Column         Non-Null Count  Dtype \n",
      "---  ------         --------------  ----- \n",
      " 0   textID         27481 non-null  object\n",
      " 1   text           27480 non-null  object\n",
      " 2   selected_text  27480 non-null  object\n",
      " 3   sentiment      27481 non-null  object\n",
      "dtypes: object(4)\n",
      "memory usage: 858.9+ KB\n"
     ]
    }
   ],
   "source": [
    "df.info()"
   ]
  },
  {
   "cell_type": "code",
   "execution_count": 14,
   "id": "37fc4c1c",
   "metadata": {},
   "outputs": [
    {
     "data": {
      "text/plain": [
       "(27480, 5)"
      ]
     },
     "execution_count": 14,
     "metadata": {},
     "output_type": "execute_result"
    }
   ],
   "source": [
    "df.shape"
   ]
  },
  {
   "cell_type": "code",
   "execution_count": 4,
   "id": "ee9b6414",
   "metadata": {},
   "outputs": [
    {
     "data": {
      "text/plain": [
       "True"
      ]
     },
     "execution_count": 4,
     "metadata": {},
     "output_type": "execute_result"
    }
   ],
   "source": [
    "df.isnull().values.any() "
   ]
  },
  {
   "cell_type": "code",
   "execution_count": 5,
   "id": "daaa0d06",
   "metadata": {},
   "outputs": [
    {
     "data": {
      "text/plain": [
       "0"
      ]
     },
     "execution_count": 5,
     "metadata": {},
     "output_type": "execute_result"
    }
   ],
   "source": [
    "df = df.dropna()\n",
    "df.duplicated().sum()"
   ]
  },
  {
   "cell_type": "code",
   "execution_count": 6,
   "id": "a4adaa16",
   "metadata": {},
   "outputs": [
    {
     "data": {
      "text/html": [
       "<div>\n",
       "<style scoped>\n",
       "    .dataframe tbody tr th:only-of-type {\n",
       "        vertical-align: middle;\n",
       "    }\n",
       "\n",
       "    .dataframe tbody tr th {\n",
       "        vertical-align: top;\n",
       "    }\n",
       "\n",
       "    .dataframe thead th {\n",
       "        text-align: right;\n",
       "    }\n",
       "</style>\n",
       "<table border=\"1\" class=\"dataframe\">\n",
       "  <thead>\n",
       "    <tr style=\"text-align: right;\">\n",
       "      <th></th>\n",
       "      <th>textID</th>\n",
       "      <th>text</th>\n",
       "      <th>selected_text</th>\n",
       "      <th>sentiment</th>\n",
       "    </tr>\n",
       "  </thead>\n",
       "  <tbody>\n",
       "    <tr>\n",
       "      <th>27475</th>\n",
       "      <td>4eac33d1c0</td>\n",
       "      <td>wish we could come see u on Denver  husband l...</td>\n",
       "      <td>d lost</td>\n",
       "      <td>negative</td>\n",
       "    </tr>\n",
       "    <tr>\n",
       "      <th>27476</th>\n",
       "      <td>4f4c4fc327</td>\n",
       "      <td>I`ve wondered about rake to.  The client has ...</td>\n",
       "      <td>, don`t force</td>\n",
       "      <td>negative</td>\n",
       "    </tr>\n",
       "    <tr>\n",
       "      <th>27477</th>\n",
       "      <td>f67aae2310</td>\n",
       "      <td>Yay good for both of you. Enjoy the break - y...</td>\n",
       "      <td>Yay good for both of you.</td>\n",
       "      <td>positive</td>\n",
       "    </tr>\n",
       "    <tr>\n",
       "      <th>27478</th>\n",
       "      <td>ed167662a5</td>\n",
       "      <td>But it was worth it  ****.</td>\n",
       "      <td>But it was worth it  ****.</td>\n",
       "      <td>positive</td>\n",
       "    </tr>\n",
       "    <tr>\n",
       "      <th>27479</th>\n",
       "      <td>6f7127d9d7</td>\n",
       "      <td>All this flirting going on - The ATG smiles...</td>\n",
       "      <td>All this flirting going on - The ATG smiles. Y...</td>\n",
       "      <td>neutral</td>\n",
       "    </tr>\n",
       "  </tbody>\n",
       "</table>\n",
       "</div>"
      ],
      "text/plain": [
       "           textID                                               text  \\\n",
       "27475  4eac33d1c0   wish we could come see u on Denver  husband l...   \n",
       "27476  4f4c4fc327   I`ve wondered about rake to.  The client has ...   \n",
       "27477  f67aae2310   Yay good for both of you. Enjoy the break - y...   \n",
       "27478  ed167662a5                         But it was worth it  ****.   \n",
       "27479  6f7127d9d7     All this flirting going on - The ATG smiles...   \n",
       "\n",
       "                                           selected_text sentiment  \n",
       "27475                                             d lost  negative  \n",
       "27476                                      , don`t force  negative  \n",
       "27477                          Yay good for both of you.  positive  \n",
       "27478                         But it was worth it  ****.  positive  \n",
       "27479  All this flirting going on - The ATG smiles. Y...   neutral  "
      ]
     },
     "execution_count": 6,
     "metadata": {},
     "output_type": "execute_result"
    }
   ],
   "source": [
    "df = df.reset_index(drop = True)\n",
    "df.tail()"
   ]
  },
  {
   "cell_type": "code",
   "execution_count": 7,
   "id": "b421a1ad",
   "metadata": {},
   "outputs": [
    {
     "data": {
      "text/plain": [
       "{0: 'neutral', 1: 'negative', 2: 'positive'}"
      ]
     },
     "execution_count": 7,
     "metadata": {},
     "output_type": "execute_result"
    }
   ],
   "source": [
    "df['label_id'] = df['sentiment'].factorize()[0]\n",
    "cat_id = df[['sentiment', 'label_id']].drop_duplicates().sort_values('label_id')\n",
    "cat_to_id = dict(cat_id.values)\n",
    "id_to_cat = dict(cat_id[['label_id', 'sentiment']].values)\n",
    "\n",
    "id_to_cat"
   ]
  },
  {
   "cell_type": "code",
   "execution_count": 8,
   "id": "d55c6d1f",
   "metadata": {},
   "outputs": [
    {
     "name": "stdout",
     "output_type": "stream",
     "text": [
      "Value of [label]: [0 1 1 ... 2 2 0] \n",
      "\n",
      "Value of [text]: ['I`d have responded, if I were going' 'Sooo SAD' 'bullying me' ...\n",
      " 'Yay good for both of you.' 'But it was worth it  ****.'\n",
      " 'All this flirting going on - The ATG smiles. Yay.  ((hugs)']\n"
     ]
    }
   ],
   "source": [
    "label = df['label_id'].values\n",
    "text = df['selected_text'].values\n",
    "\n",
    "print('Value of [label]:', label, \"\\n\")\n",
    "print('Value of [text]:', text)"
   ]
  },
  {
   "cell_type": "code",
   "execution_count": 25,
   "id": "d63f07f2",
   "metadata": {},
   "outputs": [
    {
     "name": "stdout",
     "output_type": "stream",
     "text": [
      "33\n"
     ]
    }
   ],
   "source": [
    "maxfeatures = 10000\n",
    "\n",
    "from keras.preprocessing.text import Tokenizer\n",
    "tokenizer = Tokenizer(num_words = maxfeatures)\n",
    "tokenizer.fit_on_texts(text)\n",
    "\n",
    "maxseqlen = max([len(i.split()) for i in text])\n",
    "print(maxseqlen)"
   ]
  },
  {
   "cell_type": "code",
   "execution_count": 13,
   "id": "8ceebdcf",
   "metadata": {},
   "outputs": [
    {
     "name": "stdout",
     "output_type": "stream",
     "text": [
      "Shape of data tensor ['text']: (27480, 33)\n",
      "Shape of data tensor ['label']: (27480, 3)\n"
     ]
    }
   ],
   "source": [
    "from tensorflow.keras.preprocessing.sequence import pad_sequences\n",
    "from keras.utils.np_utils import to_categorical\n",
    "\n",
    "X = tokenizer.texts_to_sequences(text)\n",
    "X = pad_sequences(X, maxseqlen)\n",
    "y = to_categorical(label, num_classes = 3)\n",
    "\n",
    "print(\"Shape of data tensor ['text']:\", X.shape)\n",
    "print(\"Shape of data tensor ['label']:\", y.shape)"
   ]
  },
  {
   "cell_type": "code",
   "execution_count": 15,
   "id": "ce427391",
   "metadata": {},
   "outputs": [
    {
     "name": "stdout",
     "output_type": "stream",
     "text": [
      "(21984, 33) (21984, 3)\n",
      "(5496, 33) (5496, 3)\n"
     ]
    }
   ],
   "source": [
    "from sklearn.model_selection import train_test_split\n",
    "\n",
    "Xtrain, Xtest, ytrain, ytest = train_test_split(X, y, test_size=0.2, random_state=42)\n",
    "\n",
    "print(Xtrain.shape, ytrain.shape)\n",
    "print(Xtest.shape, ytest.shape)"
   ]
  },
  {
   "cell_type": "code",
   "execution_count": 16,
   "id": "eba79704",
   "metadata": {},
   "outputs": [
    {
     "name": "stdout",
     "output_type": "stream",
     "text": [
      "Model: \"sequential\"\n",
      "_________________________________________________________________\n",
      " Layer (type)                Output Shape              Param #   \n",
      "=================================================================\n",
      " embedding (Embedding)       (None, 33, 128)           1280000   \n",
      "                                                                 \n",
      " lstm (LSTM)                 (None, 33, 128)           131584    \n",
      "                                                                 \n",
      " global_max_pooling1d (Globa  (None, 128)              0         \n",
      " lMaxPooling1D)                                                  \n",
      "                                                                 \n",
      " dense (Dense)               (None, 64)                8256      \n",
      "                                                                 \n",
      " dropout (Dropout)           (None, 64)                0         \n",
      "                                                                 \n",
      " dense_1 (Dense)             (None, 16)                1040      \n",
      "                                                                 \n",
      " dropout_1 (Dropout)         (None, 16)                0         \n",
      "                                                                 \n",
      " dense_2 (Dense)             (None, 3)                 51        \n",
      "                                                                 \n",
      "=================================================================\n",
      "Total params: 1,420,931\n",
      "Trainable params: 1,420,931\n",
      "Non-trainable params: 0\n",
      "_________________________________________________________________\n"
     ]
    }
   ],
   "source": [
    "from tensorflow.keras.models import Sequential\n",
    "from tensorflow.keras.layers import LSTM, Dropout, Embedding, Dense, GlobalMaxPool1D\n",
    "from tensorflow.keras.optimizers import RMSprop\n",
    "\n",
    "model = Sequential()\n",
    "model.add(Embedding(input_dim = maxfeatures, output_dim = 128, input_length = maxseqlen))\n",
    "model.add(LSTM(128, return_sequences = True))\n",
    "model.add(GlobalMaxPool1D())\n",
    "model.add(Dense(64, activation='relu'))\n",
    "model.add(Dropout(0.1))\n",
    "model.add(Dense(16, activation='relu'))\n",
    "model.add(Dropout(0.1))\n",
    "model.add(Dense(3, activation='softmax'))\n",
    "\n",
    "\n",
    "opt = RMSprop(learning_rate=0.0012, rho=0.7, momentum=0.5)\n",
    "model.compile(optimizer=opt, loss='categorical_crossentropy', metrics=['accuracy'])\n",
    "model.summary()"
   ]
  },
  {
   "cell_type": "code",
   "execution_count": 17,
   "id": "07777ca4",
   "metadata": {},
   "outputs": [],
   "source": [
    "from tensorflow.keras.callbacks import EarlyStopping\n",
    "\n",
    "early_stop = EarlyStopping(monitor = 'val_accuracy', patience = 3)"
   ]
  },
  {
   "cell_type": "code",
   "execution_count": 18,
   "id": "39f6f9ba",
   "metadata": {},
   "outputs": [
    {
     "name": "stdout",
     "output_type": "stream",
     "text": [
      "Epoch 1/15\n",
      "198/198 [==============================] - 13s 56ms/step - loss: 0.7726 - accuracy: 0.6580 - val_loss: 0.5443 - val_accuracy: 0.7890\n",
      "Epoch 2/15\n",
      "198/198 [==============================] - 11s 58ms/step - loss: 0.4767 - accuracy: 0.8251 - val_loss: 0.4625 - val_accuracy: 0.8208\n",
      "Epoch 3/15\n",
      "198/198 [==============================] - 11s 54ms/step - loss: 0.3867 - accuracy: 0.8622 - val_loss: 0.4401 - val_accuracy: 0.8386\n",
      "Epoch 4/15\n",
      "198/198 [==============================] - 11s 55ms/step - loss: 0.3395 - accuracy: 0.8848 - val_loss: 0.4301 - val_accuracy: 0.8404\n",
      "Epoch 5/15\n",
      "198/198 [==============================] - 11s 57ms/step - loss: 0.2954 - accuracy: 0.8998 - val_loss: 0.4488 - val_accuracy: 0.8508\n",
      "Epoch 6/15\n",
      "198/198 [==============================] - 12s 61ms/step - loss: 0.2605 - accuracy: 0.9142 - val_loss: 0.4541 - val_accuracy: 0.8354\n",
      "Epoch 7/15\n",
      "198/198 [==============================] - 13s 64ms/step - loss: 0.2305 - accuracy: 0.9253 - val_loss: 0.4759 - val_accuracy: 0.8404\n",
      "Epoch 8/15\n",
      "198/198 [==============================] - 12s 62ms/step - loss: 0.2028 - accuracy: 0.9341 - val_loss: 0.4772 - val_accuracy: 0.8395\n",
      "Time out: 0:01:34.056171\n"
     ]
    }
   ],
   "source": [
    "from datetime import datetime\n",
    "\n",
    "start_time = datetime.now()\n",
    "history = model.fit(Xtrain, ytrain,\n",
    "                    batch_size = 100, epochs = 15, shuffle = True,\n",
    "                    validation_split = 0.1, verbose = 1,\n",
    "                    callbacks=early_stop)\n",
    "end_time = datetime.now()\n",
    "print(\"Time out: {}\".format(end_time - start_time))"
   ]
  },
  {
   "cell_type": "code",
   "execution_count": 19,
   "id": "306f5a8b",
   "metadata": {},
   "outputs": [
    {
     "data": {
      "image/png": "[encoded data removed]",
      "text/plain": [
       "<Figure size 432x288 with 1 Axes>"
      ]
     },
     "metadata": {
      "needs_background": "light"
     },
     "output_type": "display_data"
    }
   ],
   "source": [
    "import matplotlib.pyplot as plt\n",
    "\n",
    "plt.plot (history.history['accuracy'])\n",
    "plt.plot (history.history['val_accuracy'])\n",
    "\n",
    "plt.title('model accuracy')\n",
    "plt.ylabel('accuracy')\n",
    "plt.xlabel('epoch')\n",
    "\n",
    "plt.legend(['acc', 'val_acc'], loc='upper left')\n",
    "plt.show()"
   ]
  },
  {
   "cell_type": "code",
   "execution_count": 20,
   "id": "679ea7e6",
   "metadata": {},
   "outputs": [
    {
     "data": {
      "image/png": "[encoded data removed]",
      "text/plain": [
       "<Figure size 432x288 with 1 Axes>"
      ]
     },
     "metadata": {
      "needs_background": "light"
     },
     "output_type": "display_data"
    }
   ],
   "source": [
    "import matplotlib.pyplot as plt\n",
    "\n",
    "plt.plot (history.history['loss'])\n",
    "plt.plot (history.history['val_loss'])\n",
    "\n",
    "plt.title('model loss')\n",
    "plt.ylabel('loss')\n",
    "plt.xlabel('epoch')\n",
    "\n",
    "plt.legend(['loss', 'val_loss'], loc='upper left')\n",
    "plt.show()"
   ]
  },
  {
   "cell_type": "code",
   "execution_count": 27,
   "id": "0ff106bb",
   "metadata": {},
   "outputs": [],
   "source": [
    "from sklearn.metrics import accuracy_score\n",
    "\n",
    "def evaluation(model, X, Y):\n",
    "  global Y_pred, Y_act\n",
    "  Y_pred = model.predict(X)\n",
    "  Y_pred_class = np.argmax(Y_pred, axis=1)\n",
    "  rounded_labels=np.argmax(Y, axis=1)\n",
    "  Y_act = rounded_labels\n",
    "  \n",
    "  accuracy = accuracy_score(Y_act, Y_pred_class)\n",
    "  return accuracy"
   ]
  },
  {
   "cell_type": "code",
   "execution_count": 28,
   "id": "aed9fe0c",
   "metadata": {},
   "outputs": [
    {
     "name": "stdout",
     "output_type": "stream",
     "text": [
      "172/172 [==============================] - 1s 7ms/step\n",
      "accuracy: 82.878 %\n"
     ]
    }
   ],
   "source": [
    "import numpy as np\n",
    "\n",
    "accuracy = evaluation(model, Xtest, ytest)\n",
    "print('accuracy: %.3f' % (accuracy * 100), '%')"
   ]
  },
  {
   "cell_type": "code",
   "execution_count": 24,
   "id": "56223585",
   "metadata": {},
   "outputs": [
    {
     "name": "stdout",
     "output_type": "stream",
     "text": [
      "[[1867  209  160]\n",
      " [ 221 1283   68]\n",
      " [ 185   98 1405]]\n",
      "              precision    recall  f1-score   support\n",
      "\n",
      "         neu       0.82      0.83      0.83      2236\n",
      "         neg       0.81      0.82      0.81      1572\n",
      "         pos       0.86      0.83      0.85      1688\n",
      "\n",
      "    accuracy                           0.83      5496\n",
      "   macro avg       0.83      0.83      0.83      5496\n",
      "weighted avg       0.83      0.83      0.83      5496\n",
      "\n"
     ]
    }
   ],
   "source": [
    "from sklearn.metrics import confusion_matrix, classification_report\n",
    "\n",
    "target = ['neu', 'neg', 'pos']\n",
    "print(confusion_matrix(Y_act, np.argmax(Y_pred, axis=1)))\n",
    "print(classification_report(Y_act, np.argmax(Y_pred, axis = 1), target_names = target))"
   ]
  },
  {
   "cell_type": "code",
   "execution_count": null,
   "id": "3fd2861b",
   "metadata": {},
   "outputs": [],
   "source": []
  }
 ],
 "metadata": {
  "kernelspec": {
   "display_name": "Python 3 (ipykernel)",
   "language": "python",
   "name": "python3"
  },
  "language_info": {
   "codemirror_mode": {
    "name": "ipython",
    "version": 3
   },
   "file_extension": ".py",
   "mimetype": "text/x-python",
   "name": "python",
   "nbconvert_exporter": "python",
   "pygments_lexer": "ipython3",
   "version": "3.9.7"
  }
 },
 "nbformat": 4,
 "nbformat_minor": 5
}
